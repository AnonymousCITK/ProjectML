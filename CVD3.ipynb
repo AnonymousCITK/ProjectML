{
  "nbformat": 4,
  "nbformat_minor": 0,
  "metadata": {
    "colab": {
      "provenance": []
    },
    "kernelspec": {
      "name": "python3",
      "display_name": "Python 3"
    },
    "language_info": {
      "name": "python"
    }
  },
  "cells": [
    {
      "cell_type": "code",
      "source": [
        "import numpy as np\n",
        "import pandas as pd\n",
        "import matplotlib.pyplot as plt\n",
        "import seaborn as sns"
      ],
      "metadata": {
        "id": "WJIBZdrn1H7V"
      },
      "execution_count": 367,
      "outputs": []
    },
    {
      "cell_type": "code",
      "execution_count": 368,
      "metadata": {
        "colab": {
          "base_uri": "https://localhost:8080/"
        },
        "id": "T2SRUcoFxWpD",
        "outputId": "3e3e3dd1-d398-4db8-fa45-2527a17b9235"
      },
      "outputs": [
        {
          "output_type": "stream",
          "name": "stdout",
          "text": [
            "Drive already mounted at /content/drive; to attempt to forcibly remount, call drive.mount(\"/content/drive\", force_remount=True).\n"
          ]
        }
      ],
      "source": [
        "from google.colab import drive\n",
        "drive.mount('/content/drive')"
      ]
    },
    {
      "cell_type": "code",
      "source": [
        "data = pd.read_csv(\"/content/drive/MyDrive/Colab Notebooks/Datasets/heart_disease.csv\")\n",
        "print(data.shape)\n",
        "print(data)\n"
      ],
      "metadata": {
        "colab": {
          "base_uri": "https://localhost:8080/"
        },
        "id": "Iwtsslkf1Xmt",
        "outputId": "26775042-ac1b-4244-a686-8626c73efb06"
      },
      "execution_count": 369,
      "outputs": [
        {
          "output_type": "stream",
          "name": "stdout",
          "text": [
            "(4238, 15)\n",
            "      Gender  age  currentSmoker  cigsPerDay  BPMeds  prevalentStroke  \\\n",
            "0          1   39              0         0.0     0.0                0   \n",
            "1          0   46              0         0.0     0.0                0   \n",
            "2          1   48              1        20.0     0.0                0   \n",
            "3          0   61              1        30.0     0.0                0   \n",
            "4          0   46              1        23.0     0.0                0   \n",
            "...      ...  ...            ...         ...     ...              ...   \n",
            "4233       1   50              1         1.0     0.0                0   \n",
            "4234       1   51              1        43.0     0.0                0   \n",
            "4235       0   48              1        20.0     NaN                0   \n",
            "4236       0   44              1        15.0     0.0                0   \n",
            "4237       0   52              0         0.0     0.0                0   \n",
            "\n",
            "      prevalentHyp  diabetes  totChol  sysBP  diaBP    BMI  heartRate  \\\n",
            "0                0         0    195.0  106.0   70.0  26.97       80.0   \n",
            "1                0         0    250.0  121.0   81.0  28.73       95.0   \n",
            "2                0         0    245.0  127.5   80.0  25.34       75.0   \n",
            "3                1         0    225.0  150.0   95.0  28.58       65.0   \n",
            "4                0         0    285.0  130.0   84.0  23.10       85.0   \n",
            "...            ...       ...      ...    ...    ...    ...        ...   \n",
            "4233             1         0    313.0  179.0   92.0  25.97       66.0   \n",
            "4234             0         0    207.0  126.5   80.0  19.71       65.0   \n",
            "4235             0         0    248.0  131.0   72.0  22.00       84.0   \n",
            "4236             0         0    210.0  126.5   87.0  19.16       86.0   \n",
            "4237             0         0    269.0  133.5   83.0  21.47       80.0   \n",
            "\n",
            "      glucose  Heart_ stroke  \n",
            "0        77.0              0  \n",
            "1        76.0              0  \n",
            "2        70.0              0  \n",
            "3       103.0              1  \n",
            "4        85.0              0  \n",
            "...       ...            ...  \n",
            "4233     86.0              1  \n",
            "4234     68.0              0  \n",
            "4235     86.0              0  \n",
            "4236      NaN              0  \n",
            "4237    107.0              0  \n",
            "\n",
            "[4238 rows x 15 columns]\n"
          ]
        }
      ]
    },
    {
      "cell_type": "markdown",
      "source": [
        "#[*] Plot the data"
      ],
      "metadata": {
        "id": "24o-sVfo_jQT"
      }
    },
    {
      "cell_type": "code",
      "source": [
        "# plt.scatter(data.age, data.currentSmoker, marker='*', color='green')\n",
        "plt.scatter(data.age, data.diabetes, marker='*', color='blue')"
      ],
      "metadata": {
        "colab": {
          "base_uri": "https://localhost:8080/",
          "height": 448
        },
        "id": "HxbJX0nvJM8u",
        "outputId": "8f794218-0a0a-471e-9511-05cfecb1c878"
      },
      "execution_count": 370,
      "outputs": [
        {
          "output_type": "execute_result",
          "data": {
            "text/plain": [
              "<matplotlib.collections.PathCollection at 0x7fe4092d7e50>"
            ]
          },
          "metadata": {},
          "execution_count": 370
        },
        {
          "output_type": "display_data",
          "data": {
            "text/plain": [
              "<Figure size 640x480 with 1 Axes>"
            ],
            "image/png": "[encoded data removed]"
          },
          "metadata": {}
        }
      ]
    },
    {
      "cell_type": "code",
      "source": [
        "# plt.hist(data, histtype='step')\n",
        "data.hist()\n",
        "plt.show()"
      ],
      "metadata": {
        "id": "A_EZ2VMkWtq7",
        "colab": {
          "base_uri": "https://localhost:8080/",
          "height": 452
        },
        "outputId": "bacc297f-36a1-4b18-da3d-7b8f0d1f66de"
      },
      "execution_count": 371,
      "outputs": [
        {
          "output_type": "display_data",
          "data": {
            "text/plain": [
              "<Figure size 640x480 with 16 Axes>"
            ],
            "image/png": "[encoded data removed]"
          },
          "metadata": {}
        }
      ]
    },
    {
      "cell_type": "code",
      "source": [
        "print(data.columns)\n",
        "data.info()"
      ],
      "metadata": {
        "colab": {
          "base_uri": "https://localhost:8080/"
        },
        "id": "4PnDijVnNBHA",
        "outputId": "9018d184-1c85-4206-e84a-685ed11bbc94"
      },
      "execution_count": 372,
      "outputs": [
        {
          "output_type": "stream",
          "name": "stdout",
          "text": [
            "Index(['Gender', 'age', 'currentSmoker', 'cigsPerDay', 'BPMeds',\n",
            "       'prevalentStroke', 'prevalentHyp', 'diabetes', 'totChol', 'sysBP',\n",
            "       'diaBP', 'BMI', 'heartRate', 'glucose', 'Heart_ stroke'],\n",
            "      dtype='object')\n",
            "<class 'pandas.core.frame.DataFrame'>\n",
            "RangeIndex: 4238 entries, 0 to 4237\n",
            "Data columns (total 15 columns):\n",
            " #   Column           Non-Null Count  Dtype  \n",
            "---  ------           --------------  -----  \n",
            " 0   Gender           4238 non-null   int64  \n",
            " 1   age              4238 non-null   int64  \n",
            " 2   currentSmoker    4238 non-null   int64  \n",
            " 3   cigsPerDay       4209 non-null   float64\n",
            " 4   BPMeds           4185 non-null   float64\n",
            " 5   prevalentStroke  4238 non-null   int64  \n",
            " 6   prevalentHyp     4238 non-null   int64  \n",
            " 7   diabetes         4238 non-null   int64  \n",
            " 8   totChol          4188 non-null   float64\n",
            " 9   sysBP            4238 non-null   float64\n",
            " 10  diaBP            4238 non-null   float64\n",
            " 11  BMI              4219 non-null   float64\n",
            " 12  heartRate        4237 non-null   float64\n",
            " 13  glucose          3850 non-null   float64\n",
            " 14  Heart_ stroke    4238 non-null   int64  \n",
            "dtypes: float64(8), int64(7)\n",
            "memory usage: 496.8 KB\n"
          ]
        }
      ]
    },
    {
      "cell_type": "code",
      "source": [
        "print(\"Original: \\n\",data.describe())"
      ],
      "metadata": {
        "id": "hLTFkxKobgoq",
        "colab": {
          "base_uri": "https://localhost:8080/"
        },
        "outputId": "d9fec226-16e1-4463-bcc0-c213f1d164a6"
      },
      "execution_count": 373,
      "outputs": [
        {
          "output_type": "stream",
          "name": "stdout",
          "text": [
            "Original: \n",
            "             Gender          age  currentSmoker   cigsPerDay       BPMeds  \\\n",
            "count  4238.000000  4238.000000    4238.000000  4209.000000  4185.000000   \n",
            "mean      0.429212    49.584946       0.494101     9.003089     0.029630   \n",
            "std       0.495022     8.572160       0.500024    11.920094     0.169584   \n",
            "min       0.000000    32.000000       0.000000     0.000000     0.000000   \n",
            "25%       0.000000    42.000000       0.000000     0.000000     0.000000   \n",
            "50%       0.000000    49.000000       0.000000     0.000000     0.000000   \n",
            "75%       1.000000    56.000000       1.000000    20.000000     0.000000   \n",
            "max       1.000000    70.000000       1.000000    70.000000     1.000000   \n",
            "\n",
            "       prevalentStroke  prevalentHyp     diabetes      totChol        sysBP  \\\n",
            "count      4238.000000   4238.000000  4238.000000  4188.000000  4238.000000   \n",
            "mean          0.005899      0.310524     0.025720   236.721585   132.352407   \n",
            "std           0.076587      0.462763     0.158316    44.590334    22.038097   \n",
            "min           0.000000      0.000000     0.000000   107.000000    83.500000   \n",
            "25%           0.000000      0.000000     0.000000   206.000000   117.000000   \n",
            "50%           0.000000      0.000000     0.000000   234.000000   128.000000   \n",
            "75%           0.000000      1.000000     0.000000   263.000000   144.000000   \n",
            "max           1.000000      1.000000     1.000000   696.000000   295.000000   \n",
            "\n",
            "             diaBP          BMI    heartRate      glucose  Heart_ stroke  \n",
            "count  4238.000000  4219.000000  4237.000000  3850.000000    4238.000000  \n",
            "mean     82.893464    25.802008    75.878924    81.966753       0.151958  \n",
            "std      11.910850     4.080111    12.026596    23.959998       0.359023  \n",
            "min      48.000000    15.540000    44.000000    40.000000       0.000000  \n",
            "25%      75.000000    23.070000    68.000000    71.000000       0.000000  \n",
            "50%      82.000000    25.400000    75.000000    78.000000       0.000000  \n",
            "75%      89.875000    28.040000    83.000000    87.000000       0.000000  \n",
            "max     142.500000    56.800000   143.000000   394.000000       1.000000  \n"
          ]
        }
      ]
    },
    {
      "cell_type": "markdown",
      "source": [
        "#[*] Detailed observation from the data:"
      ],
      "metadata": {
        "id": "dYo5tqUQWvBk"
      }
    },
    {
      "cell_type": "code",
      "source": [
        "#Checking if there is any missing values\n",
        "print(data.isnull().sum())\n",
        "# print(data2)"
      ],
      "metadata": {
        "colab": {
          "base_uri": "https://localhost:8080/"
        },
        "id": "g2DKpSVta7eG",
        "outputId": "80dfd55a-f084-43b7-da78-76c5a1c7b4b7"
      },
      "execution_count": 374,
      "outputs": [
        {
          "output_type": "stream",
          "name": "stdout",
          "text": [
            "Gender               0\n",
            "age                  0\n",
            "currentSmoker        0\n",
            "cigsPerDay          29\n",
            "BPMeds              53\n",
            "prevalentStroke      0\n",
            "prevalentHyp         0\n",
            "diabetes             0\n",
            "totChol             50\n",
            "sysBP                0\n",
            "diaBP                0\n",
            "BMI                 19\n",
            "heartRate            1\n",
            "glucose            388\n",
            "Heart_ stroke        0\n",
            "dtype: int64\n"
          ]
        }
      ]
    },
    {
      "cell_type": "code",
      "source": [
        "#grouping the mean of the features of the data according to the target value, here it (0 or 1) or (Well or Unwell)\n",
        "data.groupby('Heart_ stroke').mean()"
      ],
      "metadata": {
        "colab": {
          "base_uri": "https://localhost:8080/",
          "height": 143
        },
        "id": "Drv5GwSdWa33",
        "outputId": "13a739a0-944f-46df-dbde-b3019e9bc3f5"
      },
      "execution_count": 375,
      "outputs": [
        {
          "output_type": "execute_result",
          "data": {
            "text/plain": [
              "                 Gender        age  currentSmoker  cigsPerDay    BPMeds  \\\n",
              "Heart_ stroke                                                             \n",
              "0              0.410684  48.767668       0.489983    8.710401  0.023367   \n",
              "1              0.532609  54.145963       0.517081   10.629283  0.064771   \n",
              "\n",
              "               prevalentStroke  prevalentHyp  diabetes     totChol  \\\n",
              "Heart_ stroke                                                        \n",
              "0                     0.003895      0.275737  0.019199  235.172530   \n",
              "1                     0.017081      0.504658  0.062112  245.388976   \n",
              "\n",
              "                    sysBP      diaBP        BMI  heartRate    glucose  \n",
              "Heart_ stroke                                                          \n",
              "0              130.333612  82.160963  25.673007  75.762382  80.682125  \n",
              "1              143.618789  86.981366  26.531451  76.530327  89.008418  "
            ],
            "text/html": [
              "\n",
              "\n",
              "  <div id=\"df-e98db8f9-2aa8-4481-a88c-fefb9207a829\">\n",
              "    <div class=\"colab-df-container\">\n",
              "      <div>\n",
              "<style scoped>\n",
              "    .dataframe tbody tr th:only-of-type {\n",
              "        vertical-align: middle;\n",
              "    }\n",
              "\n",
              "    .dataframe tbody tr th {\n",
              "        vertical-align: top;\n",
              "    }\n",
              "\n",
              "    .dataframe thead th {\n",
              "        text-align: right;\n",
              "    }\n",
              "</style>\n",
              "<table border=\"1\" class=\"dataframe\">\n",
              "  <thead>\n",
              "    <tr style=\"text-align: right;\">\n",
              "      <th></th>\n",
              "      <th>Gender</th>\n",
              "      <th>age</th>\n",
              "      <th>currentSmoker</th>\n",
              "      <th>cigsPerDay</th>\n",
              "      <th>BPMeds</th>\n",
              "      <th>prevalentStroke</th>\n",
              "      <th>prevalentHyp</th>\n",
              "      <th>diabetes</th>\n",
              "      <th>totChol</th>\n",
              "      <th>sysBP</th>\n",
              "      <th>diaBP</th>\n",
              "      <th>BMI</th>\n",
              "      <th>heartRate</th>\n",
              "      <th>glucose</th>\n",
              "    </tr>\n",
              "    <tr>\n",
              "      <th>Heart_ stroke</th>\n",
              "      <th></th>\n",
              "      <th></th>\n",
              "      <th></th>\n",
              "      <th></th>\n",
              "      <th></th>\n",
              "      <th></th>\n",
              "      <th></th>\n",
              "      <th></th>\n",
              "      <th></th>\n",
              "      <th></th>\n",
              "      <th></th>\n",
              "      <th></th>\n",
              "      <th></th>\n",
              "      <th></th>\n",
              "    </tr>\n",
              "  </thead>\n",
              "  <tbody>\n",
              "    <tr>\n",
              "      <th>0</th>\n",
              "      <td>0.410684</td>\n",
              "      <td>48.767668</td>\n",
              "      <td>0.489983</td>\n",
              "      <td>8.710401</td>\n",
              "      <td>0.023367</td>\n",
              "      <td>0.003895</td>\n",
              "      <td>0.275737</td>\n",
              "      <td>0.019199</td>\n",
              "      <td>235.172530</td>\n",
              "      <td>130.333612</td>\n",
              "      <td>82.160963</td>\n",
              "      <td>25.673007</td>\n",
              "      <td>75.762382</td>\n",
              "      <td>80.682125</td>\n",
              "    </tr>\n",
              "    <tr>\n",
              "      <th>1</th>\n",
              "      <td>0.532609</td>\n",
              "      <td>54.145963</td>\n",
              "      <td>0.517081</td>\n",
              "      <td>10.629283</td>\n",
              "      <td>0.064771</td>\n",
              "      <td>0.017081</td>\n",
              "      <td>0.504658</td>\n",
              "      <td>0.062112</td>\n",
              "      <td>245.388976</td>\n",
              "      <td>143.618789</td>\n",
              "      <td>86.981366</td>\n",
              "      <td>26.531451</td>\n",
              "      <td>76.530327</td>\n",
              "      <td>89.008418</td>\n",
              "    </tr>\n",
              "  </tbody>\n",
              "</table>\n",
              "</div>\n",
              "      <button class=\"colab-df-convert\" onclick=\"convertToInteractive('df-e98db8f9-2aa8-4481-a88c-fefb9207a829')\"\n",
              "              title=\"Convert this dataframe to an interactive table.\"\n",
              "              style=\"display:none;\">\n",
              "\n",
              "  <svg xmlns=\"http://www.w3.org/2000/svg\" height=\"24px\"viewBox=\"0 0 24 24\"\n",
              "       width=\"24px\">\n",
              "    <path d=\"M0 0h24v24H0V0z\" fill=\"none\"/>\n",
              "    <path d=\"M18.56 5.44l.94 2.06.94-2.06 2.06-.94-2.06-.94-.94-2.06-.94 2.06-2.06.94zm-11 1L8.5 8.5l.94-2.06 2.06-.94-2.06-.94L8.5 2.5l-.94 2.06-2.06.94zm10 10l.94 2.06.94-2.06 2.06-.94-2.06-.94-.94-2.06-.94 2.06-2.06.94z\"/><path d=\"M17.41 7.96l-1.37-1.37c-.4-.4-.92-.59-1.43-.59-.52 0-1.04.2-1.43.59L10.3 9.45l-7.72 7.72c-.78.78-.78 2.05 0 2.83L4 21.41c.39.39.9.59 1.41.59.51 0 1.02-.2 1.41-.59l7.78-7.78 2.81-2.81c.8-.78.8-2.07 0-2.86zM5.41 20L4 18.59l7.72-7.72 1.47 1.35L5.41 20z\"/>\n",
              "  </svg>\n",
              "      </button>\n",
              "\n",
              "\n",
              "\n",
              "    <div id=\"df-6c6780dc-b29c-40cb-b903-588e329f621b\">\n",
              "      <button class=\"colab-df-quickchart\" onclick=\"quickchart('df-6c6780dc-b29c-40cb-b903-588e329f621b')\"\n",
              "              title=\"Suggest charts.\"\n",
              "              style=\"display:none;\">\n",
              "\n",
              "<svg xmlns=\"http://www.w3.org/2000/svg\" height=\"24px\"viewBox=\"0 0 24 24\"\n",
              "     width=\"24px\">\n",
              "    <g>\n",
              "        <path d=\"M19 3H5c-1.1 0-2 .9-2 2v14c0 1.1.9 2 2 2h14c1.1 0 2-.9 2-2V5c0-1.1-.9-2-2-2zM9 17H7v-7h2v7zm4 0h-2V7h2v10zm4 0h-2v-4h2v4z\"/>\n",
              "    </g>\n",
              "</svg>\n",
              "      </button>\n",
              "    </div>\n",
              "\n",
              "<style>\n",
              "  .colab-df-quickchart {\n",
              "    background-color: #E8F0FE;\n",
              "    border: none;\n",
              "    border-radius: 50%;\n",
              "    cursor: pointer;\n",
              "    display: none;\n",
              "    fill: #1967D2;\n",
              "    height: 32px;\n",
              "    padding: 0 0 0 0;\n",
              "    width: 32px;\n",
              "  }\n",
              "\n",
              "  .colab-df-quickchart:hover {\n",
              "    background-color: #E2EBFA;\n",
              "    box-shadow: 0px 1px 2px rgba(60, 64, 67, 0.3), 0px 1px 3px 1px rgba(60, 64, 67, 0.15);\n",
              "    fill: #174EA6;\n",
              "  }\n",
              "\n",
              "  [theme=dark] .colab-df-quickchart {\n",
              "    background-color: #3B4455;\n",
              "    fill: #D2E3FC;\n",
              "  }\n",
              "\n",
              "  [theme=dark] .colab-df-quickchart:hover {\n",
              "    background-color: #434B5C;\n",
              "    box-shadow: 0px 1px 3px 1px rgba(0, 0, 0, 0.15);\n",
              "    filter: drop-shadow(0px 1px 2px rgba(0, 0, 0, 0.3));\n",
              "    fill: #FFFFFF;\n",
              "  }\n",
              "</style>\n",
              "\n",
              "    <script>\n",
              "      async function quickchart(key) {\n",
              "        const containerElement = document.querySelector('#' + key);\n",
              "        const charts = await google.colab.kernel.invokeFunction(\n",
              "            'suggestCharts', [key], {});\n",
              "      }\n",
              "    </script>\n",
              "\n",
              "      <script>\n",
              "\n",
              "function displayQuickchartButton(domScope) {\n",
              "  let quickchartButtonEl =\n",
              "    domScope.querySelector('#df-6c6780dc-b29c-40cb-b903-588e329f621b button.colab-df-quickchart');\n",
              "  quickchartButtonEl.style.display =\n",
              "    google.colab.kernel.accessAllowed ? 'block' : 'none';\n",
              "}\n",
              "\n",
              "        displayQuickchartButton(document);\n",
              "      </script>\n",
              "      <style>\n",
              "    .colab-df-container {\n",
              "      display:flex;\n",
              "      flex-wrap:wrap;\n",
              "      gap: 12px;\n",
              "    }\n",
              "\n",
              "    .colab-df-convert {\n",
              "      background-color: #E8F0FE;\n",
              "      border: none;\n",
              "      border-radius: 50%;\n",
              "      cursor: pointer;\n",
              "      display: none;\n",
              "      fill: #1967D2;\n",
              "      height: 32px;\n",
              "      padding: 0 0 0 0;\n",
              "      width: 32px;\n",
              "    }\n",
              "\n",
              "    .colab-df-convert:hover {\n",
              "      background-color: #E2EBFA;\n",
              "      box-shadow: 0px 1px 2px rgba(60, 64, 67, 0.3), 0px 1px 3px 1px rgba(60, 64, 67, 0.15);\n",
              "      fill: #174EA6;\n",
              "    }\n",
              "\n",
              "    [theme=dark] .colab-df-convert {\n",
              "      background-color: #3B4455;\n",
              "      fill: #D2E3FC;\n",
              "    }\n",
              "\n",
              "    [theme=dark] .colab-df-convert:hover {\n",
              "      background-color: #434B5C;\n",
              "      box-shadow: 0px 1px 3px 1px rgba(0, 0, 0, 0.15);\n",
              "      filter: drop-shadow(0px 1px 2px rgba(0, 0, 0, 0.3));\n",
              "      fill: #FFFFFF;\n",
              "    }\n",
              "  </style>\n",
              "\n",
              "      <script>\n",
              "        const buttonEl =\n",
              "          document.querySelector('#df-e98db8f9-2aa8-4481-a88c-fefb9207a829 button.colab-df-convert');\n",
              "        buttonEl.style.display =\n",
              "          google.colab.kernel.accessAllowed ? 'block' : 'none';\n",
              "\n",
              "        async function convertToInteractive(key) {\n",
              "          const element = document.querySelector('#df-e98db8f9-2aa8-4481-a88c-fefb9207a829');\n",
              "          const dataTable =\n",
              "            await google.colab.kernel.invokeFunction('convertToInteractive',\n",
              "                                                     [key], {});\n",
              "          if (!dataTable) return;\n",
              "\n",
              "          const docLinkHtml = 'Like what you see? Visit the ' +\n",
              "            '<a target=\"_blank\" href=https://colab.research.google.com/notebooks/data_table.ipynb>data table notebook</a>'\n",
              "            + ' to learn more about interactive tables.';\n",
              "          element.innerHTML = '';\n",
              "          dataTable['output_type'] = 'display_data';\n",
              "          await google.colab.output.renderOutput(dataTable, element);\n",
              "          const docLink = document.createElement('div');\n",
              "          docLink.innerHTML = docLinkHtml;\n",
              "          element.appendChild(docLink);\n",
              "        }\n",
              "      </script>\n",
              "    </div>\n",
              "  </div>\n"
            ]
          },
          "metadata": {},
          "execution_count": 375
        }
      ]
    },
    {
      "cell_type": "markdown",
      "source": [
        "#[*] Assuming the target variable is 'Heart_ stroke'\n",
        "#[*] Here, 0 --> Good Heart and 1 --> Bad Heart\n"
      ],
      "metadata": {
        "id": "-lbzto4g5VfG"
      }
    },
    {
      "cell_type": "code",
      "source": [
        "data['Heart_ stroke'].value_counts()"
      ],
      "metadata": {
        "colab": {
          "base_uri": "https://localhost:8080/"
        },
        "id": "W5GhCrkfplUk",
        "outputId": "f16ccd0c-a43e-48b8-ba99-e79b5f3928e7"
      },
      "execution_count": 376,
      "outputs": [
        {
          "output_type": "execute_result",
          "data": {
            "text/plain": [
              "0    3594\n",
              "1     644\n",
              "Name: Heart_ stroke, dtype: int64"
            ]
          },
          "metadata": {},
          "execution_count": 376
        }
      ]
    },
    {
      "cell_type": "markdown",
      "source": [
        "When a column is droped, axix = 1\n",
        "while dropping a row the, axis = 0\n",
        "drop() method  "
      ],
      "metadata": {
        "id": "PvHt3JgRHoAV"
      }
    },
    {
      "cell_type": "markdown",
      "source": [
        "#[*] sklearn dependencies:"
      ],
      "metadata": {
        "id": "GB1Gppf6q76-"
      }
    },
    {
      "cell_type": "code",
      "source": [
        "from sklearn import svm\n",
        "from sklearn.model_selection import train_test_split\n",
        "from sklearn.preprocessing import StandardScaler\n",
        "from sklearn.linear_model import LogisticRegression\n",
        "from sklearn.metrics import accuracy_score"
      ],
      "metadata": {
        "id": "aaKbzKhsOxQM"
      },
      "execution_count": 377,
      "outputs": []
    },
    {
      "cell_type": "code",
      "source": [
        "#removing all the\n",
        "cln_data = data.dropna()\n",
        "print(cln_data)"
      ],
      "metadata": {
        "colab": {
          "base_uri": "https://localhost:8080/"
        },
        "id": "5ecMrLcpnPMJ",
        "outputId": "4818d1e6-63cb-430a-8911-bda6bc8dcd1a"
      },
      "execution_count": 378,
      "outputs": [
        {
          "output_type": "stream",
          "name": "stdout",
          "text": [
            "      Gender  age  currentSmoker  cigsPerDay  BPMeds  prevalentStroke  \\\n",
            "0          1   39              0         0.0     0.0                0   \n",
            "1          0   46              0         0.0     0.0                0   \n",
            "2          1   48              1        20.0     0.0                0   \n",
            "3          0   61              1        30.0     0.0                0   \n",
            "4          0   46              1        23.0     0.0                0   \n",
            "...      ...  ...            ...         ...     ...              ...   \n",
            "4231       1   58              0         0.0     0.0                0   \n",
            "4232       1   68              0         0.0     0.0                0   \n",
            "4233       1   50              1         1.0     0.0                0   \n",
            "4234       1   51              1        43.0     0.0                0   \n",
            "4237       0   52              0         0.0     0.0                0   \n",
            "\n",
            "      prevalentHyp  diabetes  totChol  sysBP  diaBP    BMI  heartRate  \\\n",
            "0                0         0    195.0  106.0   70.0  26.97       80.0   \n",
            "1                0         0    250.0  121.0   81.0  28.73       95.0   \n",
            "2                0         0    245.0  127.5   80.0  25.34       75.0   \n",
            "3                1         0    225.0  150.0   95.0  28.58       65.0   \n",
            "4                0         0    285.0  130.0   84.0  23.10       85.0   \n",
            "...            ...       ...      ...    ...    ...    ...        ...   \n",
            "4231             1         0    187.0  141.0   81.0  24.96       80.0   \n",
            "4232             1         0    176.0  168.0   97.0  23.14       60.0   \n",
            "4233             1         0    313.0  179.0   92.0  25.97       66.0   \n",
            "4234             0         0    207.0  126.5   80.0  19.71       65.0   \n",
            "4237             0         0    269.0  133.5   83.0  21.47       80.0   \n",
            "\n",
            "      glucose  Heart_ stroke  \n",
            "0        77.0              0  \n",
            "1        76.0              0  \n",
            "2        70.0              0  \n",
            "3       103.0              1  \n",
            "4        85.0              0  \n",
            "...       ...            ...  \n",
            "4231     81.0              0  \n",
            "4232     79.0              1  \n",
            "4233     86.0              1  \n",
            "4234     68.0              0  \n",
            "4237    107.0              0  \n",
            "\n",
            "[3749 rows x 15 columns]\n"
          ]
        }
      ]
    },
    {
      "cell_type": "code",
      "source": [
        "#Spiting the Features and the Target:\n",
        "X = cln_data.drop(columns = 'Heart_ stroke', axis=1)\n",
        "Y = cln_data['Heart_ stroke']\n",
        "# print(X)\n",
        "# print(Y)"
      ],
      "metadata": {
        "id": "ttZzbo4WGngd"
      },
      "execution_count": 379,
      "outputs": []
    },
    {
      "cell_type": "markdown",
      "source": [],
      "metadata": {
        "id": "z08oMaa0JLP7"
      }
    },
    {
      "cell_type": "code",
      "source": [
        "scaler = StandardScaler()\n",
        "X_scaled = scaler.fit_transform(X)\n",
        "print(X_scaled)"
      ],
      "metadata": {
        "id": "agJQOz4yOhsS",
        "colab": {
          "base_uri": "https://localhost:8080/"
        },
        "outputId": "d43aac8a-bc51-4d95-84f0-ca40d9b608eb"
      },
      "execution_count": 380,
      "outputs": [
        {
          "output_type": "stream",
          "name": "stdout",
          "text": [
            "[[ 1.11635803 -1.2346638  -0.97705693 ...  0.28542409  0.35931906\n",
            "  -0.20444626]\n",
            " [-0.89576997 -0.41768745 -0.97705693 ...  0.71835091  1.61390166\n",
            "  -0.24631379]\n",
            " [ 1.11635803 -0.18426563  1.02348181 ... -0.11552519 -0.05887514\n",
            "  -0.49751902]\n",
            " ...\n",
            " [ 1.11635803  0.04915618  1.02348181 ...  0.03944294 -0.8116247\n",
            "   0.17236158]\n",
            " [ 1.11635803  0.16586709  1.02348181 ... -1.50039906 -0.89526354\n",
            "  -0.5812541 ]\n",
            " [-0.89576997  0.282578   -0.97705693 ... -1.06747224  0.35931906\n",
            "   1.05157988]]\n"
          ]
        }
      ]
    },
    {
      "cell_type": "code",
      "source": [
        "X = X_scaled\n",
        "# Y = data['Heart_ stroke']\n",
        "print(X)\n",
        "print(Y)"
      ],
      "metadata": {
        "id": "7AyYknhVYArb",
        "colab": {
          "base_uri": "https://localhost:8080/"
        },
        "outputId": "0710cd13-e673-480c-9e8b-2638463a9778"
      },
      "execution_count": 381,
      "outputs": [
        {
          "output_type": "stream",
          "name": "stdout",
          "text": [
            "[[ 1.11635803 -1.2346638  -0.97705693 ...  0.28542409  0.35931906\n",
            "  -0.20444626]\n",
            " [-0.89576997 -0.41768745 -0.97705693 ...  0.71835091  1.61390166\n",
            "  -0.24631379]\n",
            " [ 1.11635803 -0.18426563  1.02348181 ... -0.11552519 -0.05887514\n",
            "  -0.49751902]\n",
            " ...\n",
            " [ 1.11635803  0.04915618  1.02348181 ...  0.03944294 -0.8116247\n",
            "   0.17236158]\n",
            " [ 1.11635803  0.16586709  1.02348181 ... -1.50039906 -0.89526354\n",
            "  -0.5812541 ]\n",
            " [-0.89576997  0.282578   -0.97705693 ... -1.06747224  0.35931906\n",
            "   1.05157988]]\n",
            "0       0\n",
            "1       0\n",
            "2       0\n",
            "3       1\n",
            "4       0\n",
            "       ..\n",
            "4231    0\n",
            "4232    1\n",
            "4233    1\n",
            "4234    0\n",
            "4237    0\n",
            "Name: Heart_ stroke, Length: 3749, dtype: int64\n"
          ]
        }
      ]
    },
    {
      "cell_type": "code",
      "source": [
        "# Splitting the Data into Training and Test data\n",
        "X_train, X_test, Y_train, Y_test = train_test_split(X, Y, test_size=0.2, stratify=Y, random_state=42)"
      ],
      "metadata": {
        "id": "DuNJAaCm4Q6r"
      },
      "execution_count": 382,
      "outputs": []
    },
    {
      "cell_type": "code",
      "source": [
        "print(X.shape, X_train.shape, X_test.shape)"
      ],
      "metadata": {
        "colab": {
          "base_uri": "https://localhost:8080/"
        },
        "id": "9XlPegHnJMwV",
        "outputId": "4f3b7721-d6c9-4c04-c9f7-1787d710d67b"
      },
      "execution_count": 383,
      "outputs": [
        {
          "output_type": "stream",
          "name": "stdout",
          "text": [
            "(3749, 14) (2999, 14) (750, 14)\n"
          ]
        }
      ]
    },
    {
      "cell_type": "markdown",
      "source": [
        "#[*] Model Training:"
      ],
      "metadata": {
        "id": "o41qYQXiJlZd"
      }
    },
    {
      "cell_type": "code",
      "source": [
        "# model = svm.SVC(kernel='linear')\n",
        "model = LogisticRegression()"
      ],
      "metadata": {
        "id": "R_oebc1DJVME"
      },
      "execution_count": 384,
      "outputs": []
    },
    {
      "cell_type": "code",
      "source": [
        "model.fit(X_train, Y_train)"
      ],
      "metadata": {
        "colab": {
          "base_uri": "https://localhost:8080/",
          "height": 52
        },
        "id": "gVVeqBWfJxaG",
        "outputId": "35e88841-ee67-423d-b4d5-f53c73b40341"
      },
      "execution_count": 385,
      "outputs": [
        {
          "output_type": "execute_result",
          "data": {
            "text/plain": [
              "LogisticRegression()"
            ],
            "text/html": [
              "<style>#sk-container-id-9 {color: black;background-color: white;}#sk-container-id-9 pre{padding: 0;}#sk-container-id-9 div.sk-toggleable {background-color: white;}#sk-container-id-9 label.sk-toggleable__label {cursor: pointer;display: block;width: 100%;margin-bottom: 0;padding: 0.3em;box-sizing: border-box;text-align: center;}#sk-container-id-9 label.sk-toggleable__label-arrow:before {content: \"▸\";float: left;margin-right: 0.25em;color: #696969;}#sk-container-id-9 label.sk-toggleable__label-arrow:hover:before {color: black;}#sk-container-id-9 div.sk-estimator:hover label.sk-toggleable__label-arrow:before {color: black;}#sk-container-id-9 div.sk-toggleable__content {max-height: 0;max-width: 0;overflow: hidden;text-align: left;background-color: #f0f8ff;}#sk-container-id-9 div.sk-toggleable__content pre {margin: 0.2em;color: black;border-radius: 0.25em;background-color: #f0f8ff;}#sk-container-id-9 input.sk-toggleable__control:checked~div.sk-toggleable__content {max-height: 200px;max-width: 100%;overflow: auto;}#sk-container-id-9 input.sk-toggleable__control:checked~label.sk-toggleable__label-arrow:before {content: \"▾\";}#sk-container-id-9 div.sk-estimator input.sk-toggleable__control:checked~label.sk-toggleable__label {background-color: #d4ebff;}#sk-container-id-9 div.sk-label input.sk-toggleable__control:checked~label.sk-toggleable__label {background-color: #d4ebff;}#sk-container-id-9 input.sk-hidden--visually {border: 0;clip: rect(1px 1px 1px 1px);clip: rect(1px, 1px, 1px, 1px);height: 1px;margin: -1px;overflow: hidden;padding: 0;position: absolute;width: 1px;}#sk-container-id-9 div.sk-estimator {font-family: monospace;background-color: #f0f8ff;border: 1px dotted black;border-radius: 0.25em;box-sizing: border-box;margin-bottom: 0.5em;}#sk-container-id-9 div.sk-estimator:hover {background-color: #d4ebff;}#sk-container-id-9 div.sk-parallel-item::after {content: \"\";width: 100%;border-bottom: 1px solid gray;flex-grow: 1;}#sk-container-id-9 div.sk-label:hover label.sk-toggleable__label {background-color: #d4ebff;}#sk-container-id-9 div.sk-serial::before {content: \"\";position: absolute;border-left: 1px solid gray;box-sizing: border-box;top: 0;bottom: 0;left: 50%;z-index: 0;}#sk-container-id-9 div.sk-serial {display: flex;flex-direction: column;align-items: center;background-color: white;padding-right: 0.2em;padding-left: 0.2em;position: relative;}#sk-container-id-9 div.sk-item {position: relative;z-index: 1;}#sk-container-id-9 div.sk-parallel {display: flex;align-items: stretch;justify-content: center;background-color: white;position: relative;}#sk-container-id-9 div.sk-item::before, #sk-container-id-9 div.sk-parallel-item::before {content: \"\";position: absolute;border-left: 1px solid gray;box-sizing: border-box;top: 0;bottom: 0;left: 50%;z-index: -1;}#sk-container-id-9 div.sk-parallel-item {display: flex;flex-direction: column;z-index: 1;position: relative;background-color: white;}#sk-container-id-9 div.sk-parallel-item:first-child::after {align-self: flex-end;width: 50%;}#sk-container-id-9 div.sk-parallel-item:last-child::after {align-self: flex-start;width: 50%;}#sk-container-id-9 div.sk-parallel-item:only-child::after {width: 0;}#sk-container-id-9 div.sk-dashed-wrapped {border: 1px dashed gray;margin: 0 0.4em 0.5em 0.4em;box-sizing: border-box;padding-bottom: 0.4em;background-color: white;}#sk-container-id-9 div.sk-label label {font-family: monospace;font-weight: bold;display: inline-block;line-height: 1.2em;}#sk-container-id-9 div.sk-label-container {text-align: center;}#sk-container-id-9 div.sk-container {/* jupyter's `normalize.less` sets `[hidden] { display: none; }` but bootstrap.min.css set `[hidden] { display: none !important; }` so we also need the `!important` here to be able to override the default hidden behavior on the sphinx rendered scikit-learn.org. See: https://github.com/scikit-learn/scikit-learn/issues/21755 */display: inline-block !important;position: relative;}#sk-container-id-9 div.sk-text-repr-fallback {display: none;}</style><div id=\"sk-container-id-9\" class=\"sk-top-container\"><div class=\"sk-text-repr-fallback\"><pre>LogisticRegression()</pre><b>In a Jupyter environment, please rerun this cell to show the HTML representation or trust the notebook. <br />On GitHub, the HTML representation is unable to render, please try loading this page with nbviewer.org.</b></div><div class=\"sk-container\" hidden><div class=\"sk-item\"><div class=\"sk-estimator sk-toggleable\"><input class=\"sk-toggleable__control sk-hidden--visually\" id=\"sk-estimator-id-9\" type=\"checkbox\" checked><label for=\"sk-estimator-id-9\" class=\"sk-toggleable__label sk-toggleable__label-arrow\">LogisticRegression</label><div class=\"sk-toggleable__content\"><pre>LogisticRegression()</pre></div></div></div></div></div>"
            ]
          },
          "metadata": {},
          "execution_count": 385
        }
      ]
    },
    {
      "cell_type": "markdown",
      "source": [
        "#[*] Acurracy for Training data"
      ],
      "metadata": {
        "id": "1HV6eGFRpvDi"
      }
    },
    {
      "cell_type": "code",
      "source": [
        "X_train_pred = model.predict(X_train)\n",
        "train_accuracy = accuracy_score(X_train_pred, Y_train)\n",
        "print(\"Training Accuracy:\", train_accuracy)"
      ],
      "metadata": {
        "colab": {
          "base_uri": "https://localhost:8080/"
        },
        "outputId": "c0d17f83-d593-4196-d2d0-3a40bda90f5e",
        "id": "IB6kn4Uppp_-"
      },
      "execution_count": 386,
      "outputs": [
        {
          "output_type": "stream",
          "name": "stdout",
          "text": [
            "Training Accuracy: 0.8536178726242081\n"
          ]
        }
      ]
    },
    {
      "cell_type": "markdown",
      "source": [
        "#[*] Acurracy for Testing data"
      ],
      "metadata": {
        "id": "1rQNnKnrp16n"
      }
    },
    {
      "cell_type": "code",
      "source": [
        "X_test_pred = model.predict(X_test)\n",
        "test_accuracy = accuracy_score(Y_test, X_test_pred)\n",
        "print(\"Testing Accuracy:\", test_accuracy)"
      ],
      "metadata": {
        "colab": {
          "base_uri": "https://localhost:8080/"
        },
        "id": "Zyk_CUHmove7",
        "outputId": "98a57b5b-7859-4650-a816-13e7715064c1"
      },
      "execution_count": 387,
      "outputs": [
        {
          "output_type": "stream",
          "name": "stdout",
          "text": [
            "Testing Accuracy: 0.8493333333333334\n"
          ]
        }
      ]
    }
  ]
}